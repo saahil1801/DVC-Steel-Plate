{
 "cells": [
  {
   "cell_type": "code",
   "execution_count": 55,
   "metadata": {},
   "outputs": [],
   "source": [
    "import warnings\n",
    "from numba import NumbaDeprecationWarning\n",
    "warnings.filterwarnings(\"ignore\", category=NumbaDeprecationWarning)\n",
    "\n",
    "import numpy as np\n",
    "import pandas as pd\n",
    "import wandb\n",
    "import joblib\n",
    "\n",
    "# Data Standardization and Encoding\n",
    "from sklearn.preprocessing import RobustScaler\n",
    "from sklearn.compose import ColumnTransformer\n",
    "from sklearn.pipeline import Pipeline\n",
    "from sklearn.impute import SimpleImputer\n",
    "\n",
    "# Modelling\n",
    "from sklearn import metrics\n",
    "from sklearn.model_selection import train_test_split\n",
    "from sklearn.feature_selection import SelectKBest, f_classif\n",
    "from imblearn.over_sampling import SMOTE\n",
    "from xgboost import XGBClassifier\n",
    "from scipy.stats import uniform, randint\n",
    "\n",
    "# Visualization\n",
    "import matplotlib.pyplot as plt\n",
    "import seaborn as sns\n",
    "\n",
    "# Ignore warnings\n",
    "from sklearn.exceptions import ConvergenceWarning\n",
    "warnings.filterwarnings(\"ignore\", category=ConvergenceWarning)\n",
    "\n",
    "# Load data\n",
    "\n"
   ]
  },
  {
   "cell_type": "code",
   "execution_count": 59,
   "metadata": {},
   "outputs": [
    {
     "name": "stderr",
     "output_type": "stream",
     "text": [
      "Failed to detect the name of this notebook, you can set it manually with the WANDB_NOTEBOOK_NAME environment variable to enable code saving.\n",
      "/Users/saahil/Desktop/Coding_Projects/ML/Steel Plate/env/lib/python3.9/site-packages/urllib3/__init__.py:35: NotOpenSSLWarning: urllib3 v2 only supports OpenSSL 1.1.1+, currently the 'ssl' module is compiled with 'LibreSSL 2.8.3'. See: https://github.com/urllib3/urllib3/issues/3020\n",
      "  warnings.warn(\n",
      "\u001b[34m\u001b[1mwandb\u001b[0m: Currently logged in as: \u001b[33msaahilkatariads\u001b[0m (\u001b[33msaahilkatariads-MCKV Institute of Engineering\u001b[0m). Use \u001b[1m`wandb login --relogin`\u001b[0m to force relogin\n"
     ]
    },
    {
     "data": {
      "text/html": [
       "Tracking run with wandb version 0.17.8"
      ],
      "text/plain": [
       "<IPython.core.display.HTML object>"
      ]
     },
     "metadata": {},
     "output_type": "display_data"
    },
    {
     "data": {
      "text/html": [
       "Run data is saved locally in <code>/Users/saahil/Desktop/Coding_Projects/ML/Steel Plate/wandb/run-20240902_180805-nwvi0d9w</code>"
      ],
      "text/plain": [
       "<IPython.core.display.HTML object>"
      ]
     },
     "metadata": {},
     "output_type": "display_data"
    },
    {
     "data": {
      "text/html": [
       "Syncing run <strong><a href='https://wandb.ai/saahilkatariads-MCKV%20Institute%20of%20Engineering/steel/runs/nwvi0d9w' target=\"_blank\">amber-fire-1</a></strong> to <a href='https://wandb.ai/saahilkatariads-MCKV%20Institute%20of%20Engineering/steel' target=\"_blank\">Weights & Biases</a> (<a href='https://wandb.me/run' target=\"_blank\">docs</a>)<br/>"
      ],
      "text/plain": [
       "<IPython.core.display.HTML object>"
      ]
     },
     "metadata": {},
     "output_type": "display_data"
    },
    {
     "data": {
      "text/html": [
       " View project at <a href='https://wandb.ai/saahilkatariads-MCKV%20Institute%20of%20Engineering/steel' target=\"_blank\">https://wandb.ai/saahilkatariads-MCKV%20Institute%20of%20Engineering/steel</a>"
      ],
      "text/plain": [
       "<IPython.core.display.HTML object>"
      ]
     },
     "metadata": {},
     "output_type": "display_data"
    },
    {
     "data": {
      "text/html": [
       " View run at <a href='https://wandb.ai/saahilkatariads-MCKV%20Institute%20of%20Engineering/steel/runs/nwvi0d9w' target=\"_blank\">https://wandb.ai/saahilkatariads-MCKV%20Institute%20of%20Engineering/steel/runs/nwvi0d9w</a>"
      ],
      "text/plain": [
       "<IPython.core.display.HTML object>"
      ]
     },
     "metadata": {},
     "output_type": "display_data"
    },
    {
     "data": {
      "text/html": [
       "<button onClick=\"this.nextSibling.style.display='block';this.style.display='none';\">Display W&B run</button><iframe src='https://wandb.ai/saahilkatariads-MCKV%20Institute%20of%20Engineering/steel/runs/nwvi0d9w?jupyter=true' style='border:none;width:100%;height:420px;display:none;'></iframe>"
      ],
      "text/plain": [
       "<wandb.sdk.wandb_run.Run at 0x32a4514f0>"
      ]
     },
     "execution_count": 59,
     "metadata": {},
     "output_type": "execute_result"
    }
   ],
   "source": [
    "wandb.init(project='steel')"
   ]
  },
  {
   "cell_type": "code",
   "execution_count": 60,
   "metadata": {},
   "outputs": [
    {
     "name": "stdout",
     "output_type": "stream",
     "text": [
      "Train data set : (19219, 35)\n",
      "Test data set : (12814, 28)\n"
     ]
    }
   ],
   "source": [
    "df_train = pd.read_csv('playground-series-s4e3/train.csv')\n",
    "df_test = pd.read_csv('playground-series-s4e3/test.csv')\n",
    "\n",
    "\n",
    "print('Train data set : {}'.format(df_train.shape))\n",
    "print('Test data set : {}'.format(df_test.shape))\n",
    "\n"
   ]
  },
  {
   "cell_type": "code",
   "execution_count": 61,
   "metadata": {},
   "outputs": [],
   "source": [
    "\n",
    "\n",
    "# Define numerical features and targets\n",
    "numerical_features = [\n",
    "    'Sum_of_Luminosity', 'Length_of_Conveyer', 'TypeOfSteel_A300', 'TypeOfSteel_A400',\n",
    "    'Steel_Plate_Thickness', 'Edges_Index', 'Empty_Index',\n",
    "    'Square_Index', 'Outside_X_Index', 'Edges_X_Index', 'Edges_Y_Index',\n",
    "    'Outside_Global_Index', 'LogOfAreas', 'Log_X_Index',\n",
    "    'Log_Y_Index', 'Orientation_Index', 'Luminosity_Index', 'SigmoidOfAreas'\n",
    "]\n",
    "target_features = ['Pastry', 'Z_Scratch', 'K_Scatch', 'Stains', 'Dirtiness', 'Bumps', 'Other_Faults']\n",
    "\n",
    "\n"
   ]
  },
  {
   "cell_type": "code",
   "execution_count": 62,
   "metadata": {},
   "outputs": [
    {
     "name": "stdout",
     "output_type": "stream",
     "text": [
      "Columns in df_train: ['id', 'X_Minimum', 'X_Maximum', 'Y_Minimum', 'Y_Maximum', 'Pixels_Areas', 'X_Perimeter', 'Y_Perimeter', 'Sum_of_Luminosity', 'Minimum_of_Luminosity', 'Maximum_of_Luminosity', 'Length_of_Conveyer', 'TypeOfSteel_A300', 'TypeOfSteel_A400', 'Steel_Plate_Thickness', 'Edges_Index', 'Empty_Index', 'Square_Index', 'Outside_X_Index', 'Edges_X_Index', 'Edges_Y_Index', 'Outside_Global_Index', 'LogOfAreas', 'Log_X_Index', 'Log_Y_Index', 'Orientation_Index', 'Luminosity_Index', 'SigmoidOfAreas', 'Pastry', 'Z_Scratch', 'K_Scatch', 'Stains', 'Dirtiness', 'Bumps', 'Other_Faults']\n",
      "Columns in df_test: ['id', 'X_Minimum', 'X_Maximum', 'Y_Minimum', 'Y_Maximum', 'Pixels_Areas', 'X_Perimeter', 'Y_Perimeter', 'Sum_of_Luminosity', 'Minimum_of_Luminosity', 'Maximum_of_Luminosity', 'Length_of_Conveyer', 'TypeOfSteel_A300', 'TypeOfSteel_A400', 'Steel_Plate_Thickness', 'Edges_Index', 'Empty_Index', 'Square_Index', 'Outside_X_Index', 'Edges_X_Index', 'Edges_Y_Index', 'Outside_Global_Index', 'LogOfAreas', 'Log_X_Index', 'Log_Y_Index', 'Orientation_Index', 'Luminosity_Index', 'SigmoidOfAreas']\n"
     ]
    }
   ],
   "source": [
    "print(\"Columns in df_train:\", df_train.columns.tolist())\n",
    "print(\"Columns in df_test:\", df_test.columns.tolist())"
   ]
  },
  {
   "cell_type": "code",
   "execution_count": 63,
   "metadata": {},
   "outputs": [],
   "source": [
    "\n",
    "def preprocess_data(df):\n",
    "\n",
    "    \"\"\"\n",
    "    Preprocess the data by engineering features and dropping unnecessary columns.\n",
    "\n",
    "    Parameters:\n",
    "    df (pd.DataFrame): The input DataFrame.\n",
    "\n",
    "    Returns:\n",
    "    pd.DataFrame: The preprocessed DataFrame with engineered features and unnecessary columns removed.\n",
    "    \"\"\"\n",
    "\n",
    "    # Feature Engineering\n",
    "    columns_in_df = df.columns\n",
    "    print(\"Columns in DataFrame:\", columns_in_df)\n",
    "    try:\n",
    "        df['X'] = df['X_Maximum'] - df['X_Minimum']\n",
    "        df['Y'] = df['Y_Maximum'] - df['Y_Minimum']\n",
    "        df['Luminosity'] = df['Maximum_of_Luminosity'] - df['Minimum_of_Luminosity']\n",
    "        df['Area_Perimeter_Ratio'] = df['Pixels_Areas'] / (df['X_Perimeter'] + df['Y_Perimeter'])\n",
    "        \n",
    "        # Drop original columns\n",
    "        df = df.drop(['X_Maximum', 'X_Minimum', 'Y_Maximum', 'Y_Minimum', 'Maximum_of_Luminosity', 'Minimum_of_Luminosity',\n",
    "                    'Pixels_Areas', 'X_Perimeter', 'Y_Perimeter'], axis=1)\n",
    "    except KeyError as e:\n",
    "        print(f\"Missing column: {e}\")\n",
    "    \n",
    "    return df\n",
    "\n"
   ]
  },
  {
   "cell_type": "code",
   "execution_count": 64,
   "metadata": {},
   "outputs": [],
   "source": [
    "def build_pipeline():\n",
    "    # Preprocessing pipeline\n",
    "\n",
    "    \"\"\"\n",
    "    Build a machine learning pipeline that includes preprocessing, feature selection, and model training.\n",
    "\n",
    "    Returns:\n",
    "    Pipeline: A scikit-learn pipeline object that includes preprocessing, feature selection, and the XGBoost classifier.\n",
    "    \"\"\"\n",
    "\n",
    "    numerical_transformer = Pipeline(steps=[\n",
    "        ('scaler', RobustScaler())\n",
    "    ])\n",
    "    \n",
    "    preprocessor = ColumnTransformer(\n",
    "        transformers=[\n",
    "            ('num', numerical_transformer, numerical_features)\n",
    "        ]\n",
    "    )\n",
    "    \n",
    "    # Complete pipeline\n",
    "    pipeline = Pipeline(steps=[\n",
    "        ('preprocessor', preprocessor),\n",
    "        ('feature_selection', SelectKBest(score_func=f_classif, k='all')),\n",
    "        ('model', XGBClassifier(learning_rate=0.01, n_estimators=300, objective='binary:logistic'))\n",
    "    ])\n",
    "    \n",
    "    return pipeline\n"
   ]
  },
  {
   "cell_type": "code",
   "execution_count": 65,
   "metadata": {},
   "outputs": [],
   "source": [
    "def train_and_evaluate(X_train, y_train, X_test, y_test, target_name):\n",
    "    \"\"\"\n",
    "    Train the model and evaluate its performance, logging metrics to W&B.\n",
    "\n",
    "    Parameters:\n",
    "    X_train (pd.DataFrame): Training features.\n",
    "    y_train (pd.Series): Training target.\n",
    "    X_test (pd.DataFrame): Test features.\n",
    "    y_test (pd.Series): Test target.\n",
    "    target_name (str): The name of the target variable for logging purposes.\n",
    "    \"\"\"\n",
    "    # Define the pipeline\n",
    "    pipeline = build_pipeline()\n",
    "    \n",
    "    # Fit the model\n",
    "    pipeline.fit(X_train, y_train)\n",
    "    \n",
    "    # Predict\n",
    "    y_pred = pipeline.predict(X_test)\n",
    "    \n",
    "    # Evaluation metrics\n",
    "    accuracy = metrics.accuracy_score(y_test, y_pred)\n",
    "    f1 = metrics.f1_score(y_test, y_pred)\n",
    "    precision = metrics.precision_score(y_test, y_pred)\n",
    "    recall = metrics.recall_score(y_test, y_pred)\n",
    "    \n",
    "    # Log metrics to W&B\n",
    "    wandb.log({\n",
    "        f\"{target_name} Accuracy\": accuracy,\n",
    "        f\"{target_name} F1 Score\": f1,\n",
    "        f\"{target_name} Precision\": precision,\n",
    "        f\"{target_name} Recall\": recall\n",
    "    })\n",
    "    \n",
    "    print(f\"Target: {target_name}\")\n",
    "    print(\"Accuracy: \", accuracy)\n",
    "    print(\"F1 Score: \", f1)\n",
    "    print(\"Precision: \", precision)\n",
    "    print(\"Recall: \", recall)\n",
    "    "
   ]
  },
  {
   "cell_type": "code",
   "execution_count": 66,
   "metadata": {},
   "outputs": [
    {
     "name": "stdout",
     "output_type": "stream",
     "text": [
      "Columns in DataFrame: Index(['id', 'X_Minimum', 'X_Maximum', 'Y_Minimum', 'Y_Maximum',\n",
      "       'Pixels_Areas', 'X_Perimeter', 'Y_Perimeter', 'Sum_of_Luminosity',\n",
      "       'Minimum_of_Luminosity', 'Maximum_of_Luminosity', 'Length_of_Conveyer',\n",
      "       'TypeOfSteel_A300', 'TypeOfSteel_A400', 'Steel_Plate_Thickness',\n",
      "       'Edges_Index', 'Empty_Index', 'Square_Index', 'Outside_X_Index',\n",
      "       'Edges_X_Index', 'Edges_Y_Index', 'Outside_Global_Index', 'LogOfAreas',\n",
      "       'Log_X_Index', 'Log_Y_Index', 'Orientation_Index', 'Luminosity_Index',\n",
      "       'SigmoidOfAreas', 'Pastry', 'Z_Scratch', 'K_Scatch', 'Stains',\n",
      "       'Dirtiness', 'Bumps', 'Other_Faults'],\n",
      "      dtype='object')\n",
      "Columns in DataFrame: Index(['id', 'X_Minimum', 'X_Maximum', 'Y_Minimum', 'Y_Maximum',\n",
      "       'Pixels_Areas', 'X_Perimeter', 'Y_Perimeter', 'Sum_of_Luminosity',\n",
      "       'Minimum_of_Luminosity', 'Maximum_of_Luminosity', 'Length_of_Conveyer',\n",
      "       'TypeOfSteel_A300', 'TypeOfSteel_A400', 'Steel_Plate_Thickness',\n",
      "       'Edges_Index', 'Empty_Index', 'Square_Index', 'Outside_X_Index',\n",
      "       'Edges_X_Index', 'Edges_Y_Index', 'Outside_Global_Index', 'LogOfAreas',\n",
      "       'Log_X_Index', 'Log_Y_Index', 'Orientation_Index', 'Luminosity_Index',\n",
      "       'SigmoidOfAreas'],\n",
      "      dtype='object')\n",
      "Processing target: Pastry\n",
      "Target: Pastry\n",
      "Accuracy:  0.8350676378772113\n",
      "F1 Score:  0.35873229939312207\n",
      "Precision:  0.25601539942252166\n",
      "Recall:  0.5990990990990991\n",
      "Processing target: Z_Scratch\n",
      "Target: Z_Scratch\n",
      "Accuracy:  0.9361775927852931\n",
      "F1 Score:  0.5827664399092971\n",
      "Precision:  0.4706959706959707\n",
      "Recall:  0.7648809523809523\n",
      "Processing target: K_Scatch\n",
      "Target: K_Scatch\n",
      "Accuracy:  0.9595907041276448\n",
      "F1 Score:  0.8906616611919287\n",
      "Precision:  0.8564981949458483\n",
      "Recall:  0.927663734115347\n",
      "Processing target: Stains\n",
      "Target: Stains\n",
      "Accuracy:  0.9816163718348943\n",
      "F1 Score:  0.736318407960199\n",
      "Precision:  0.6141078838174274\n",
      "Recall:  0.9192546583850931\n",
      "Processing target: Dirtiness\n",
      "Target: Dirtiness\n",
      "Accuracy:  0.9094693028095734\n",
      "F1 Score:  0.239067055393586\n",
      "Precision:  0.15045871559633028\n",
      "Recall:  0.5815602836879432\n",
      "Processing target: Bumps\n",
      "Target: Bumps\n",
      "Accuracy:  0.7644814429413805\n",
      "F1 Score:  0.5238429172510519\n",
      "Precision:  0.51340206185567\n",
      "Recall:  0.5347172512526843\n",
      "Processing target: Other_Faults\n",
      "Target: Other_Faults\n",
      "Accuracy:  0.6614637530350329\n",
      "F1 Score:  0.47071583514099785\n",
      "Precision:  0.5178997613365155\n",
      "Recall:  0.43141153081510936\n"
     ]
    },
    {
     "data": {
      "text/html": [
       "<style>\n",
       "    table.wandb td:nth-child(1) { padding: 0 10px; text-align: left ; width: auto;} td:nth-child(2) {text-align: left ; width: 100%}\n",
       "    .wandb-row { display: flex; flex-direction: row; flex-wrap: wrap; justify-content: flex-start; width: 100% }\n",
       "    .wandb-col { display: flex; flex-direction: column; flex-basis: 100%; flex: 1; padding: 10px; }\n",
       "    </style>\n",
       "<div class=\"wandb-row\"><div class=\"wandb-col\"><h3>Run history:</h3><br/><table class=\"wandb\"><tr><td>Bumps Accuracy</td><td>▁</td></tr><tr><td>Bumps F1 Score</td><td>▁</td></tr><tr><td>Bumps Precision</td><td>▁</td></tr><tr><td>Bumps Recall</td><td>▁</td></tr><tr><td>Dirtiness Accuracy</td><td>▁</td></tr><tr><td>Dirtiness F1 Score</td><td>▁</td></tr><tr><td>Dirtiness Precision</td><td>▁</td></tr><tr><td>Dirtiness Recall</td><td>▁</td></tr><tr><td>K_Scatch Accuracy</td><td>▁</td></tr><tr><td>K_Scatch F1 Score</td><td>▁</td></tr><tr><td>K_Scatch Precision</td><td>▁</td></tr><tr><td>K_Scatch Recall</td><td>▁</td></tr><tr><td>Other_Faults Accuracy</td><td>▁</td></tr><tr><td>Other_Faults F1 Score</td><td>▁</td></tr><tr><td>Other_Faults Precision</td><td>▁</td></tr><tr><td>Other_Faults Recall</td><td>▁</td></tr><tr><td>Pastry Accuracy</td><td>▁</td></tr><tr><td>Pastry F1 Score</td><td>▁</td></tr><tr><td>Pastry Precision</td><td>▁</td></tr><tr><td>Pastry Recall</td><td>▁</td></tr><tr><td>Stains Accuracy</td><td>▁</td></tr><tr><td>Stains F1 Score</td><td>▁</td></tr><tr><td>Stains Precision</td><td>▁</td></tr><tr><td>Stains Recall</td><td>▁</td></tr><tr><td>Z_Scratch Accuracy</td><td>▁</td></tr><tr><td>Z_Scratch F1 Score</td><td>▁</td></tr><tr><td>Z_Scratch Precision</td><td>▁</td></tr><tr><td>Z_Scratch Recall</td><td>▁</td></tr></table><br/></div><div class=\"wandb-col\"><h3>Run summary:</h3><br/><table class=\"wandb\"><tr><td>Bumps Accuracy</td><td>0.76448</td></tr><tr><td>Bumps F1 Score</td><td>0.52384</td></tr><tr><td>Bumps Precision</td><td>0.5134</td></tr><tr><td>Bumps Recall</td><td>0.53472</td></tr><tr><td>Dirtiness Accuracy</td><td>0.90947</td></tr><tr><td>Dirtiness F1 Score</td><td>0.23907</td></tr><tr><td>Dirtiness Precision</td><td>0.15046</td></tr><tr><td>Dirtiness Recall</td><td>0.58156</td></tr><tr><td>K_Scatch Accuracy</td><td>0.95959</td></tr><tr><td>K_Scatch F1 Score</td><td>0.89066</td></tr><tr><td>K_Scatch Precision</td><td>0.8565</td></tr><tr><td>K_Scatch Recall</td><td>0.92766</td></tr><tr><td>Other_Faults Accuracy</td><td>0.66146</td></tr><tr><td>Other_Faults F1 Score</td><td>0.47072</td></tr><tr><td>Other_Faults Precision</td><td>0.5179</td></tr><tr><td>Other_Faults Recall</td><td>0.43141</td></tr><tr><td>Pastry Accuracy</td><td>0.83507</td></tr><tr><td>Pastry F1 Score</td><td>0.35873</td></tr><tr><td>Pastry Precision</td><td>0.25602</td></tr><tr><td>Pastry Recall</td><td>0.5991</td></tr><tr><td>Stains Accuracy</td><td>0.98162</td></tr><tr><td>Stains F1 Score</td><td>0.73632</td></tr><tr><td>Stains Precision</td><td>0.61411</td></tr><tr><td>Stains Recall</td><td>0.91925</td></tr><tr><td>Z_Scratch Accuracy</td><td>0.93618</td></tr><tr><td>Z_Scratch F1 Score</td><td>0.58277</td></tr><tr><td>Z_Scratch Precision</td><td>0.4707</td></tr><tr><td>Z_Scratch Recall</td><td>0.76488</td></tr></table><br/></div></div>"
      ],
      "text/plain": [
       "<IPython.core.display.HTML object>"
      ]
     },
     "metadata": {},
     "output_type": "display_data"
    },
    {
     "data": {
      "text/html": [
       " View run <strong style=\"color:#cdcd00\">amber-fire-1</strong> at: <a href='https://wandb.ai/saahilkatariads-MCKV%20Institute%20of%20Engineering/steel/runs/nwvi0d9w' target=\"_blank\">https://wandb.ai/saahilkatariads-MCKV%20Institute%20of%20Engineering/steel/runs/nwvi0d9w</a><br/> View project at: <a href='https://wandb.ai/saahilkatariads-MCKV%20Institute%20of%20Engineering/steel' target=\"_blank\">https://wandb.ai/saahilkatariads-MCKV%20Institute%20of%20Engineering/steel</a><br/>Synced 5 W&B file(s), 0 media file(s), 0 artifact file(s) and 0 other file(s)"
      ],
      "text/plain": [
       "<IPython.core.display.HTML object>"
      ]
     },
     "metadata": {},
     "output_type": "display_data"
    },
    {
     "data": {
      "text/html": [
       "Find logs at: <code>./wandb/run-20240902_180805-nwvi0d9w/logs</code>"
      ],
      "text/plain": [
       "<IPython.core.display.HTML object>"
      ]
     },
     "metadata": {},
     "output_type": "display_data"
    },
    {
     "data": {
      "text/html": [
       "The new W&B backend becomes opt-out in version 0.18.0; try it out with `wandb.require(\"core\")`! See https://wandb.me/wandb-core for more information."
      ],
      "text/plain": [
       "<IPython.core.display.HTML object>"
      ]
     },
     "metadata": {},
     "output_type": "display_data"
    }
   ],
   "source": [
    "model_saved = False\n",
    "\n",
    "df_train = preprocess_data(df_train)\n",
    "df_test = preprocess_data(df_test)\n",
    "    \n",
    "X = df_train.drop(target_features + ['id'], axis=1)\n",
    "y = df_train[target_features]\n",
    "\n",
    "for i, target in enumerate(target_features):\n",
    "    print(f\"Processing target: {target}\")\n",
    "    \n",
    "    # Split data\n",
    "    X_train, X_test, y_train, y_test = train_test_split(X, y[target], test_size=0.3, random_state=42)\n",
    "    \n",
    "    # Oversample\n",
    "    smote = SMOTE(sampling_strategy='auto')\n",
    "    X_smote, y_smote = smote.fit_resample(X_train, y_train)\n",
    "    \n",
    "    # Train and evaluate\n",
    "    train_and_evaluate(X_smote, y_smote, X_test, y_test, target)\n",
    "    \n",
    "    # Save model only once\n",
    "    if not model_saved:\n",
    "        joblib.dump(build_pipeline().fit(X_smote, y_smote), 'model.joblib')\n",
    "        model_saved = True\n",
    "\n",
    "# Finish W&B run\n",
    "wandb.finish()"
   ]
  },
  {
   "cell_type": "code",
   "execution_count": null,
   "metadata": {},
   "outputs": [],
   "source": []
  }
 ],
 "metadata": {
  "kernelspec": {
   "display_name": "env",
   "language": "python",
   "name": "python3"
  },
  "language_info": {
   "codemirror_mode": {
    "name": "ipython",
    "version": 3
   },
   "file_extension": ".py",
   "mimetype": "text/x-python",
   "name": "python",
   "nbconvert_exporter": "python",
   "pygments_lexer": "ipython3",
   "version": "3.9.6"
  }
 },
 "nbformat": 4,
 "nbformat_minor": 2
}
